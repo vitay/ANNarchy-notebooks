{
 "cells": [
  {
   "cell_type": "markdown",
   "metadata": {},
   "source": [
    "# Investigation of STDP"
   ]
  },
  {
   "cell_type": "code",
   "execution_count": 1,
   "metadata": {},
   "outputs": [
    {
     "name": "stdout",
     "output_type": "stream",
     "text": [
      "ANNarchy 4.6 (4.6.8b) on linux (posix). \n"
     ]
    }
   ],
   "source": [
    "from ANNarchy import *\n",
    "clear()\n",
    "setup(dt=1.0)"
   ]
  },
  {
   "cell_type": "markdown",
   "metadata": {},
   "source": [
    "The STDP learning rule maintains exponentially-decaying traces for the pre-synaptic and pre-synaptic spikes.\n",
    "\n",
    "LTP and LTD occur at spike times depending on the corresponding traces."
   ]
  },
  {
   "cell_type": "code",
   "execution_count": 2,
   "metadata": {},
   "outputs": [],
   "source": [
    "STDP = Synapse(\n",
    "    parameters = \"\"\"\n",
    "        tau_plus = 20.0 : projection ; tau_minus = 20.0 : projection\n",
    "        A_plus = 0.01 : projection   ; A_minus = 0.01 : projection\n",
    "        w_min = 0.0 : projection     ; w_max = 2.0 : projection\n",
    "    \"\"\",\n",
    "    equations = \"\"\"\n",
    "        tau_plus  * dx/dt = -x : event-driven # pre-synaptic trace\n",
    "        tau_minus * dy/dt = -y : event-driven # post-synaptic trace\n",
    "    \"\"\",\n",
    "    pre_spike=\"\"\"\n",
    "        g_target += w\n",
    "        x += A_plus * w_max\n",
    "        w = clip(w + y, w_min , w_max)\n",
    "    \"\"\",\n",
    "    post_spike=\"\"\"\n",
    "        y -= A_minus * w_max\n",
    "        w = clip(w + x, w_min , w_max)\n",
    "    \"\"\"\n",
    ")"
   ]
  },
  {
   "cell_type": "markdown",
   "metadata": {},
   "source": [
    "We create two dummy populations with one neuron each, whose spike times we can control."
   ]
  },
  {
   "cell_type": "code",
   "execution_count": 3,
   "metadata": {},
   "outputs": [],
   "source": [
    "pre = SpikeSourceArray([[0.]])\n",
    "post = SpikeSourceArray([[50.]])"
   ]
  },
  {
   "cell_type": "markdown",
   "metadata": {},
   "source": [
    "We connect the population using a STDP synapse."
   ]
  },
  {
   "cell_type": "code",
   "execution_count": 4,
   "metadata": {},
   "outputs": [
    {
     "data": {
      "text/plain": [
       "<ANNarchy.core.Projection.Projection at 0x7f842989b630>"
      ]
     },
     "execution_count": 4,
     "metadata": {},
     "output_type": "execute_result"
    }
   ],
   "source": [
    "proj = Projection(pre, post, 'exc', STDP)\n",
    "proj.connect_all_to_all(1.0)"
   ]
  },
  {
   "cell_type": "code",
   "execution_count": 5,
   "metadata": {},
   "outputs": [
    {
     "name": "stdout",
     "output_type": "stream",
     "text": [
      "WARNING: unrecognized arguments: ['-f', '/run/user/1000/jupyter/kernel-1e98769f-f0ab-419f-8f88-4f44b19f2b67.json'] \n"
     ]
    }
   ],
   "source": [
    "compile()"
   ]
  },
  {
   "cell_type": "markdown",
   "metadata": {},
   "source": [
    "The presynaptic neuron will fire at avrious times between 0 and 100 ms, while the postsynaptic neuron keeps firing at 50 ms."
   ]
  },
  {
   "cell_type": "code",
   "execution_count": 6,
   "metadata": {},
   "outputs": [],
   "source": [
    "pre_times = np.linspace(100.0, 0.0, 101)"
   ]
  },
  {
   "cell_type": "code",
   "execution_count": 7,
   "metadata": {},
   "outputs": [],
   "source": [
    "weight_changes = []\n",
    "for t_pre in pre_times:\n",
    "    # Reset the populations\n",
    "    pre.clear()\n",
    "    post.clear()\n",
    "    pre.spike_times = [[t_pre]]\n",
    "    post.spike_times = [[50.0]]\n",
    "    # Reset the traces\n",
    "    proj.x = 0.0\n",
    "    proj.y = 0.0\n",
    "    # Weight before the simulation\n",
    "    w_before = proj[0].w[0]\n",
    "    # Simulate long enough\n",
    "    simulate(105.0)\n",
    "    # Record weight change\n",
    "    delta_w = proj[0].w[0] - w_before\n",
    "    weight_changes.append(delta_w)"
   ]
  },
  {
   "cell_type": "markdown",
   "metadata": {},
   "source": [
    "We can now plot the classical STDP figure:"
   ]
  },
  {
   "cell_type": "code",
   "execution_count": 9,
   "metadata": {},
   "outputs": [
    {
     "data": {
      "text/plain": [
       "Text(0, 0.5, 'delta_w')"
      ]
     },
     "execution_count": 9,
     "metadata": {},
     "output_type": "execute_result"
    },
    {
     "data": {
      "image/png": "[encoded data removed]",
      "text/plain": [
       "<Figure size 432x288 with 1 Axes>"
      ]
     },
     "metadata": {},
     "output_type": "display_data"
    }
   ],
   "source": [
    "import matplotlib.pyplot as plt\n",
    "import seaborn; seaborn.set_style('whitegrid')\n",
    "plt.plot(50. - pre_times, weight_changes, \"*\")\n",
    "plt.xlabel(\"t_post - t_pre\")\n",
    "plt.ylabel(\"delta_w\")"
   ]
  },
  {
   "cell_type": "code",
   "execution_count": null,
   "metadata": {},
   "outputs": [],
   "source": []
  }
 ],
 "metadata": {
  "kernelspec": {
   "display_name": "Python 3",
   "language": "python",
   "name": "python3"
  },
  "language_info": {
   "codemirror_mode": {
    "name": "ipython",
    "version": 3
   },
   "file_extension": ".py",
   "mimetype": "text/x-python",
   "name": "python",
   "nbconvert_exporter": "python",
   "pygments_lexer": "ipython3",
   "version": "3.7.3"
  }
 },
 "nbformat": 4,
 "nbformat_minor": 2
}
